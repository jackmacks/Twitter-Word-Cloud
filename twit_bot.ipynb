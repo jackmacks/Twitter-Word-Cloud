{
 "cells": [
  {
   "cell_type": "code",
   "execution_count": 1,
   "metadata": {},
   "outputs": [],
   "source": [
    "import tweepy, configparser, wordcloud, re\n",
    "import multidict as multidict"
   ]
  },
  {
   "cell_type": "code",
   "execution_count": 10,
   "metadata": {},
   "outputs": [],
   "source": [
    "# remove words like much\n",
    "\n",
    "\n",
    "\n",
    "def extract_text(name):\n",
    "    config = configparser.ConfigParser()\n",
    "    config.read('config.ini')\n",
    "\n",
    "    api_key = config['twitter']['api_key']\n",
    "    api_secret = config['twitter']['api_secret']\n",
    "    access_token = config['twitter']['access_token']\n",
    "    access_token_secret = config['twitter']['access_token_secret']\n",
    "\n",
    "    auth = tweepy.OAuth1UserHandler(\n",
    "      api_key, api_secret, access_token, access_token_secret\n",
    "    )\n",
    "    api = tweepy.API(auth)\n",
    "\n",
    "    userID = name\n",
    "\n",
    "    tweets = api.user_timeline(screen_name=userID, \n",
    "                              # 200 is the maximum allowed count\n",
    "                              count=200,\n",
    "                              include_rts = False,\n",
    "                              # Necessary to keep full_text \n",
    "                              # otherwise only the first 140 words are extracted\n",
    "                              tweet_mode = 'extended'\n",
    "                              )\n",
    "\n",
    "\n",
    "    text_list= [info.full_text for info in tweets]\n",
    "    filtered_text = [re.sub('@\\S+', '', i) for i in text_list]\n",
    "    filtered_text2 = [re.sub('https\\S+', '', i) for i in filtered_text]\n",
    "    text = \" \".join(filtered_text2).split(\" \")\n",
    "\n",
    "    fullTermsDict = multidict.MultiDict()\n",
    "    tmpDict = {}\n",
    "    for t in text:\n",
    "        if re.match(\"a|the|an|the|to|in|for|of|or|by|with|is|on|that|be| \", t):\n",
    "            continue\n",
    "        val = tmpDict.get(t, 0)\n",
    "        tmpDict[t.lower()] = val + 1\n",
    "    for key in tmpDict:\n",
    "        fullTermsDict.add(key, tmpDict[key])\n",
    "    return fullTermsDict\n",
    "\n",
    "   \n",
    "   #with open(f'{name}.txt', 'w') as f:\n",
    "      #f.write(text)\n",
    "\n",
    "   \n",
    "   \n",
    "\n"
   ]
  },
  {
   "cell_type": "code",
   "execution_count": 11,
   "metadata": {},
   "outputs": [
    {
     "data": {
      "text/plain": [
       "<MultiDict('': 256, '🤣': 8, 'global': 1, '_______': 1, 'cumulative': 1, 'this': 1, 'year': 2, 'right': 3, 'metric': 1, 'write': 2, 'that': 1, 'would': 7, 'great.': 1, 'charlie': 1, 'ergen': 1, 'trying': 1, 'steal': 1, '12ghz': 1, 'band': 1, 'meant': 1, 'space': 1, 'internet.': 1, 'not': 1, 'cool.': 1, 'progress': 2, 'we’re': 2, 'making': 1, 'steam': 1, 'demo': 1, 'probably': 1, 'next': 6, 'month.': 2, 'it’s': 2, 'flat': 1, 'trade': 1, 'autonomous': 1, 'rocket': 1, 'landing': 2, 'ship': 2, 'actually': 1, 'true.': 1, 'then': 1, 'i': 1, 'suggested': 1, 'team': 3, 'it': 12, 'didn’t': 1, 'need': 5, 'quite': 2, 'so': 12, 'pointy,': 2, 'since': 1, 'just': 3, 'based': 1, 'movie': 1, 'joke,': 1, 'but': 2, 'everyone': 1, 'likes': 1, 'we': 1, 'kept': 1, 'way.': 1, '😋': 1, 'bagels': 1, 'if': 1, 'calms': 1, 'down,': 1, 'can': 2, 'lower': 1, 'prices': 1, 'cars': 1, 'tesla': 1, 'protect': 2, 'life': 2, 'earth,\n",
       "spacex': 1, 'extend': 1, '20': 1, '30': 1, 'years': 1, 'from': 6, 'first': 1, 'human': 1, 'launch': 2, 'rate': 3, 'growth': 1, 'exponential.\n",
       "\n",
       "assumes': 1, 'transferring': 1, '~100k': 1, 'each': 2, 'rendezvous': 1, '~1m': 1, 'people': 4, 'needed.': 1, 'mars': 1, 'may': 2, 'fixer': 2, 'upper': 2, 'planet,': 1, 'has': 5, 'great': 2, 'potential!': 2, 'planet': 1, 'the': 1, 'scale': 1, '🤯': 1, '&amp;': 18, 'visit!': 1, 'wonder': 1, 'species': 1, 'magellanic': 1, 'clouds': 1, 'wondering': 1, 'who': 2, 'lives': 1, 'big': 3, 'galaxy': 1, 'some': 1, 'small': 1, 'tubes': 1, 'wiring': 1, 'nested': 1, 'bigger': 1, 'tube': 1, 'protection,': 1, 'kinda': 1, 'like': 3, 'conduit': 1, 'house.': 1, '\n",
       "\n",
       "engines': 1, 'booster': 3, 'base': 1, 'extremely': 1, 'robust.': 1, 'high': 6, 'strength': 1, 'stainless': 1, 'steel': 1, 'bulletproof': 1, 'handgun': 1, '~2.5mm': 1, 'thickness.': 1, 'dome': 1, '4mm.': 1, 'electric': 3, 'power': 6, 'needed': 1, 'even': 3, 'when': 1, 'engines': 3, 'running': 1, 'draw': 1, 'tvc': 1, 'bad.': 1, 'have': 11, 'local': 2, 'supercaps': 1, 'engine': 5, 'deal': 1, 'spikes.': 1, 'enabling': 1, 'take': 1, 'heat': 1, 'shrouds': 3, 'might': 1, 'save': 1, 'over': 2, '10': 2, 'things': 2, 'considered.\n",
       "\n",
       "shrouds': 1, 'risk': 2, 'fuel': 2, 'leaks': 1, 'could': 1, 'contained': 1, 'shroud,': 1, 'mox': 1, 'bomb.\n",
       "\n",
       "booster': 1, 'purging': 1, '33': 2, 'flight': 1, 'prevent': 1, 'this.': 2, 'all': 1, 'mass': 2, 'necessitated': 1, 'design': 1, 'should': 5, 'count': 1, 'mass,': 1, 'eg': 1, 'shrouds,': 1, 'hydraulic': 1, 'excess': 1, 'purge': 1, 'gas.\n",
       "\n",
       "raptors': 1, 'production': 1, 'now': 1, 'tvc,': 1, 'saving': 1, 'hydraulics': 1, 'booster.': 1, 'dragon': 1, 'launching': 1, '2': 2, 'mins': 1, 'most': 1, 'importantly,': 1, 'delete': 1, 'remaining': 1, 'secondary': 1, 'structure,': 1, 'remove': 1, '10.13': 1, 'goes': 3, 'external': 1, 'week.': 1, 'handle': 1, 'chuck’s': 1, 'complex': 2, 'left': 1, 'turn.\n",
       "\n",
       "beta': 1, 'v11': 1, 'hopefully': 1, 'end': 2, 'month,': 1, 'which': 3, 'highway.': 1, 'importance': 1, '“v11”': 1, 'reduced': 1, '10.x': 1, 'releases.': 1, 'mostly': 1, 'v11.': 1, '💩': 1, '=': 1, 'bs': 1, 'thanks': 1, 'everything': 2, 'you': 5, 'done': 1, 'tesla!': 1, 'honor': 2, 'working': 1, 'you.': 1, 'wow': 1, '🧐': 1, '🤣🤣': 2, 'absolutely.': 1, '\n",
       "\n",
       "and': 1, 'lithium': 1, 'batteries': 1, 'new': 3, 'oil.': 1, 'testing': 1, 'well,': 1, 'soon': 1, 'month': 1, 'cool': 1, 'gives': 1, 'whole': 1, 'meaning': 2, 'go': 1, 'pros!': 1, 'imagine': 1, 'msnbc': 1, 'did': 2, '🤣👍': 2, 'a+': 1, 'cinematography': 1, 'ancient': 1, 'times': 1, 'was': 9, 'up': 4, 'propulsion': 1, 'section.': 1, 'damage': 1, 'minor,': 1, 'engines.': 1, 'best': 1, 'do': 4, 'bay.': 1, 'starship': 1, 'site': 2, 'join': 1, 'our': 3, 'underground': 1, 'movement!': 1, 'excited': 1, 'lmaooo': 1, 'oh': 1, 'irony': 1, 'lol': 1, 'no': 2, 'problem': 1, 'recycle': 1, '4680': 1, 'pack.': 1, 'think': 2, 'battery': 1, 'pack': 2, 'super': 1, 'grade': 2, '–': 6, 'start': 5, 'than': 3, 'low': 1, 'grade!': 1, 'fifth': 1, 'element': 1, 'vehicle': 2, 'seems': 1, 'ok': 1, 'flashlight.': 1, 'out': 4, 'hour': 1, 'shut': 1, 'down': 1, 'pad': 1, 'night': 1, 'safety.': 1, 'will': 9, 'know': 4, 'more': 7, 'morning.': 1, 'cool,': 1, 'congrats!': 1, '\n",
       "\n",
       "now': 1, 'simulators': 1, 'spend': 1, 'money': 2, 'rendering.': 1, 'rereading': 1, 'greece': 1, 'durant.': 1, 'in': 1, 'recent': 1, 'months,': 1, 'read': 1, 'american': 1, 'caesar,': 1, 'masters': 1, 'doom,': 1, 'much': 9, 'engineer,': 1, 'wages': 1, 'destruction': 1, 'storm': 1, 'steel.': 1, '\n",
       "\n",
       "not': 1, 'book': 1, 'fiction': 1, 'lately.': 1, 'video': 1, 'games': 1, 'seem': 1, 'stories': 1, 'days.': 1, 'recommend': 2, 'lot': 3, 'books': 1, 'and': 1, 'many': 3, 'little': 4, 'red': 1, 'green': 1, 'led': 1, 'youtube': 1, 'keeps': 1, 'playing': 1, 'me': 4, 'same': 2, 'scam': 1, 'every': 4, 'time': 3, 'use': 1, 'it.': 2, 'convinced': 1, '“make': 1, 'through': 1, 'audible”': 1, '…': 6, 'doing': 1, 'going': 2, 'particular': 2, 'however,': 1, 'specific': 1, 'spin': 2, 'test': 2, '(raptor': 1, 'sequence).': 1, '\n",
       "\n",
       "going': 1, 'won’t': 1, '💯': 2, 'trump': 1, '82': 1, 'term,': 1, 'old': 1, 'chief': 1, 'executive': 1, 'let': 1, 'united': 1, 'states': 1, 'america.\n",
       "\n",
       "if': 1, 'desantis': 1, 'runs': 2, 'biden': 1, '2024,': 1, 'easily': 1, 'win': 1, 'he': 1, 'doesn’t': 1, 'campaign.': 1, 'yeah,': 1, 'drama.': 1, 'really': 1, 'want': 2, 'bull': 1, 'china': 1, 'shop': 1, 'situation': 1, 'single': 1, 'day!?\n",
       "\n",
       "also,': 1, 'legal': 1, 'maximum': 1, 'presidential': 1, 'term': 1, '69.': 1, 'don’t': 3, 'hate': 1, 'man,': 1, 'hang': 1, 'his': 1, 'hat': 1, 'sail': 1, 'sunset.\n",
       "\n",
       "dems': 1, 'call': 1, 'make': 3, 'trump’s': 1, 'way': 3, 'survive': 1, 'regain': 1, 'presidency.': 1, 'tesla’s': 1, 'cabin': 1, 'overheat': 1, 'protection': 1, 'real': 3, 'difference': 1, 'record': 1, 'heatwaves.\n",
       "\n",
       "ability': 1, 'temperature': 1, 'coming': 1, 'software': 1, 'release.': 1, 'true': 2, 'cryogenic': 1, 'challenge,': 1, 'evaporates': 1, 'create': 1, 'fuel-air': 1, 'explosion': 1, 'partially': 1, 'oxygen': 1, 'earth.\n",
       "\n",
       "that': 1, 'said,': 1, 'sensors': 1, 'detect': 1, 'later.': 1, 'good.': 1, 'damage.': 1, '🔥💯': 1, '🐁': 1, '+': 3, '⌨️': 1, 'v1.05': 1, 'mimic': 1, 'dark': 1, 'moon': 1, 'stars': 1, 'ruin': 1, '🔥👍': 1, 'absolutely': 1, 'problematic': 1, 'good': 1, 'chance': 1, 'you’re': 1, 'experiencing': 1, 'least': 2, 'mild': 1, 'reflux': 1, 'night,': 1, 'quality': 2, 'sleep': 1, 'consciousness': 1, 'children': 1, 'essential': 1, 'future': 2, 'for': 1, 'improved': 1, 'sleep,': 1, 'raise': 1, 'head': 1, 'your': 4, '3”': 1, '5cm': 1, 'eat': 1, '3': 2, 'hours': 1, 'these': 1, 'polar': 1, 'launches': 2, 'enable': 1, 'complete': 1, 'coverage': 1, 'earth': 1, '(where': 1, 'government)': 1, 'chuckmate': 1, 'hello???': 1, 'wars': 1, 'drones.': 1, 'crews': 1, 'planes': 1, 'tanks': 1, 'chance.\n",
       "\n",
       "one': 1, 'exception:': 1, 'purely': 1, 'human-controlled': 1, 'far': 3, 'resilient': 1, 'emf': 1, 'weapons.': 1, 'whoever': 1, 'controls': 1, 'teleprompter': 1, 'president!': 1, 'whatever': 1, 'question': 3, 'douglas': 1, 'adams': 1, 'put': 1, '\n",
       "\n",
       "wait': 1, 'guys': 1, 'related?': 1, 'sponges': 1, 'starfish': 1, 'obv': 2, 'understand': 1, 'nature': 1, 'universe.': 1, 'clams,': 1, 'much.': 2, 'interesting.': 1, 'bot': 1, 'kids': 2, 'worth': 1, 'possible.': 1, 'i’m': 1, 'planning': 1, 'childcare': 1, 'my': 3, 'companies': 2, 'significantly.\n",
       "\n",
       "hopefully,': 1, 'other': 1, 'same.\n",
       "\n",
       "also,': 1, 'musk': 1, 'foundation': 1, 'plans': 1, 'donate': 1, 'directly': 1, 'families.\n",
       "\n",
       "hopefully,': 1, 'details': 1, 'agreed,': 1, 'needs': 1, 'world': 2, 'gone': 1, 'mad': 1, 'terrible': 1, 'news': 1, 'great!': 1, 'had': 1, 'experience': 1, 'tokyo': 1, 'osaka': 1, 'japan': 1, 'trains.': 1, '\n",
       "\n",
       "took': 1, 'bullet': 1, 'train': 1, 'beijing': 1, 'xi’an': 1, 'see': 1, 'terracotta': 1, 'army': 1, '秦始皇.': 1, 'fired': 1, 'product': 1, 'development': 1, 'team!': 1, 'such': 1, 'work': 1, 'also,': 1, 'ruggedized': 1, 'relentless': 1, 'salt': 1, 'spray': 1, 'extreme': 1, 'winds': 1, 'storms': 1, 'deep': 1, 'ocean': 1, 'easy': 1, 'no,': 1, 'dual,': 1, 'performance': 1, 'terminals,': 1, 'important': 1, 'maintaining': 1, 'connection': 2, 'choppy': 1, 'seas': 1, 'heavy': 1, 'storms.\n",
       "\n",
       "still': 1, 'premium': 1, 'pricing,': 1, 'cheaper': 1, 'faster': 1, 'paying': 1, '$150k/month': 1, 'worse': 1, 'ships!': 1, 'a': 1, 'flying,': 1, 'boat': 1, 'sickkk': 1, 'starlink': 1, 'boats!': 1, 'bad!': 1, '\n",
       "\n",
       "it': 1, 'looked': 1, 'future.\n",
       "\n",
       "same': 1, 'fashion.': 1, 'pretty': 2, 'van': 1, 'roof': 2, 'height,': 1, 'stand': 1, 'sit': 1, 'under': 2, 'shade.': 1, 'maybe': 1, 'optional': 1, 'solar': 1, 'canopy': 1, 'extends': 1, 'both': 1, 'sides': 1, 'van,': 1, 'tripling': 1, '😉': 1, 'exactly': 1, 'highly': 1, 'configurable': 1, 'robovan': 1, 'cargo?': 1, 'illusion': 1, 'overpopulated,': 1, 'though': 1, 'birth': 2, 'trends': 1, 'obviously': 1, 'headed': 1, 'population': 1, 'collapse': 1, 'hope': 1, 'families': 1, 'congrats': 1, 'those': 1, 'do!': 1, 'still': 3, 'zero': 1, 'people!': 1, 'mark': 1, 'words,': 1, 'sadly': 1, 'help': 1, 'underpopulation': 1, 'crisis.': 1, '\n",
       "\n",
       "a': 1, 'collapsing': 1, 'biggest': 1, 'danger': 1, 'civilization': 1, 'faces': 1, 'far.': 1, '“wait': 1, 'minute,': 1, 'doc.': 1, 'are': 1, 'telling': 1, 'built': 1, 'machine...out': 1, 'of': 1, 'delorean?”': 1, 'back': 1, 'revolutions': 1, 'mike': 1, 'duncan,': 1, 'especially': 1, 'season': 1, 'vastly': 2, 'orwell': 1, 'imagined,': 1, 'surveillance': 1, 'troubling': 2, 'supporting': 2, 'doge': 1, 'wherever': 1, 'possible': 1, 'brought': 1, 'us': 1, '‘69,\n",
       "mars': 1, 'without': 1, 'common': 1, 'goal,': 1, '\n",
       "humanity': 1, 'fight': 1, 'itself': 1, 'say': 2, 'this:': 1, '“…': 1, 'pressures': 1, 'government': 1, 'placed': 1, 'twitter': 1, '…”': 1, 'humanity': 1, 'reach': 1, 'lifetime': 1, 'flatulence': 1, 'earther': 1, 'later': 1, '😜💩': 1, 'zip': 1, 'vegas': 1, 'fast': 1, 'teslas': 1, 'tunnels!': 1, 'structural': 1, 'overall': 1, 'physics': 2, 'standpoint,': 1, 'optimized': 1, 'find': 1, 'gold': 1, 'sock': 2, 'kilter': 1, 'washed': 1, 'esthetically': 1, 'bit': 1, 'corpo': 1, 'con,': 1, 'conference': 1, 'socks': 2, 'always': 1, 'something': 1, 'magazine': 1, 'cover': 1, 'practically': 1, 'veritable': 1, '“sock': 1, 'guy': 1, 'gets': 2, 'tech': 1, 'get': 2, 'days!': 2, 'must': 1, 'confess': 1, 'penchant': 1, 'creative': 1, 'success': 1, 'fact': 1, 'due,': 1, 'part,': 1, 'fun': 1, 'parties,': 1, 'spoke': 1, 'wrote': 1, 'well!': 1, 'while': 2, 'bleak': 1, 'posts': 1, 'generate': 1, 'clicks,': 1, 'happier': 1, 'moments': 1, 'history': 1, 'nice': 1, 'there': 1, 'matrix': 1, 'math': 1, 'ai!': 1, 'compute': 1, 'overwhelmingly': 1, 'dot': 1, 'products!': 1, 'squashing': 1, 'dissenting': 1, 'opinions': 1, 'pro-nuclear,': 1, 'chart': 1, 'overly': 1, 'weighted': 1, 'significantly': 1, 'overstates': 1, 'mining': 1, 'required': 1, 'solar.': 1, 'grain': 1, 'salt.': 1, '3am': 1, 'oil': 1, 'burned': 1, 'out.': 1, 'knew': 1, 'it!': 1, 'elvis': 1, 'elvish': 1, 'h': 1, 'happy': 1, 'july': 1, '4th!': 1, 'work!': 1, 'suit': 1, 'tragic': 1, 'talulah': 1, 'designed': 1, 'dress': 1, 'herself': 1, '40th': 1, 'birthday': 1, 'party.': 1, 'she': 1, 'party': 1, 'genius.': 1, '♥️': 1, 'honored': 1, 'meet': 1, 'yesterday': 1, 'venice,': 1, 'remembrance': 1, 'feeling': 1, 'perhaps': 1, 'bored?': 1, 'wise': 1, 'words': 1, 'sjm': 1, 'their': 1, 'bait': 1, 'switch': 1, 'satellite': 1, 'spectrum': 2, 'cellular': 1, 'shady': 1, 'unethical.': 1, '\n",
       "\n",
       "if': 1, 'successful,': 1, 'hurt': 1, 'served': 1, 'completely': 1, 'unserved': 1, 'world.': 1, 'very': 1, 'messed': 1, 'up.': 1, 'hardly': 1, 'knows': 1, 'few': 1, 'months': 1, 'real-life': 1, 'different': 1, 'haha!': 1, 'vote': 1, 'confidence': 1, 'artificial': 1, 'insemination?': 1, 'ai': 1, 'day': 1, 'suggestions': 1, 'comments!': 1, 'sometimes': 1, 'stock\n",
       "': 1, 'largest': 1, 'wheel': 1, 'cheese': 2, 'beverly': 1, 'hills': 1, 'shop!': 1, 'love': 2, 'cheeses,': 1, 'hard': 1, 'stilton': 1, 'sheer': 1, 'variety': 1, 'what': 1, 'favorite': 1, 'cheese?': 1, 'cgi': 1, 'irl': 1, 'trending': 1, 'emptiness': 1, 'contributor': 1, 'talented': 1, 'spacex': 1, 'interesting': 1, 'computer': 1, 'keep': 1, 'dogecoin': 1, '💕💕': 2, 'shadow': 1, 'crew': 1, 'feel': 1, 'swindled': 1, 'drink': 1, 'gwynne': 1, 'teach': 1, 'engineering': 1, 'growing': 1, '(in': 1, 'environment': 1, 'bleak)': 1, '💯👍': 1, 'eventually,': 1, 'time.\n",
       "': 1, 'father’s': 1, 'can’t': 1, 'smell': 1, 'wifi,': 1, 'how': 1, 'real?': 1, 'falcon': 1, 'executing': 1, 'flawless': 1, 'to': 1, 'question:': 1, 'why': 1, 'twitter?': 1, 'encourage': 1, 'change': 1, 'haha': 1)>"
      ]
     },
     "execution_count": 11,
     "metadata": {},
     "output_type": "execute_result"
    }
   ],
   "source": [
    "extract_text('elonmusk')"
   ]
  },
  {
   "cell_type": "code",
   "execution_count": 12,
   "metadata": {},
   "outputs": [],
   "source": [
    "def cloudify():\n",
    "\n",
    "   \n",
    "   _wordcloud = wordcloud.WordCloud(min_word_length=2, background_color=\"white\").generate_from_frequencies(extract_text('elonmusk'), )\n",
    "   image = _wordcloud.to_image()\n",
    "   image.show()\n",
    "\n",
    "\n",
    "cloudify()"
   ]
  },
  {
   "cell_type": "code",
   "execution_count": null,
   "metadata": {},
   "outputs": [],
   "source": []
  },
  {
   "cell_type": "code",
   "execution_count": null,
   "metadata": {},
   "outputs": [],
   "source": []
  }
 ],
 "metadata": {
  "interpreter": {
   "hash": "b0fa6594d8f4cbf19f97940f81e996739fb7646882a419484c72d19e05852a7e"
  },
  "kernelspec": {
   "display_name": "Python 3.9.13 64-bit",
   "language": "python",
   "name": "python3"
  },
  "language_info": {
   "codemirror_mode": {
    "name": "ipython",
    "version": 3
   },
   "file_extension": ".py",
   "mimetype": "text/x-python",
   "name": "python",
   "nbconvert_exporter": "python",
   "pygments_lexer": "ipython3",
   "version": "3.9.13"
  },
  "orig_nbformat": 4
 },
 "nbformat": 4,
 "nbformat_minor": 2
}
